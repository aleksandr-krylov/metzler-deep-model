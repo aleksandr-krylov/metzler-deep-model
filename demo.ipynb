{
 "cells": [
  {
   "cell_type": "code",
   "execution_count": 1,
   "metadata": {},
   "outputs": [],
   "source": [
    "import ipywidgets as widgets\n",
    "from ipywidgets import interact, fixed"
   ]
  },
  {
   "cell_type": "code",
   "execution_count": 2,
   "metadata": {},
   "outputs": [],
   "source": [
    "%matplotlib inline\n",
    "%load_ext autoreload\n",
    "%autoreload 2"
   ]
  },
  {
   "cell_type": "code",
   "execution_count": 3,
   "metadata": {},
   "outputs": [],
   "source": [
    "from utils import *\n",
    "from geometry import *\n",
    "from renderer import *"
   ]
  },
  {
   "cell_type": "code",
   "execution_count": 4,
   "metadata": {},
   "outputs": [],
   "source": [
    "random_state = 12345\n",
    "generator = ShapeGenerator(random_state=random_state)"
   ]
  },
  {
   "cell_type": "code",
   "execution_count": 5,
   "metadata": {},
   "outputs": [],
   "source": [
    "shape = MetzlerShape(generator.generate())\n",
    "object3d = Object3D(shape, facecolor='#42bcf5', edgewidth=0.8)\n",
    "\n",
    "camera = Camera()"
   ]
  },
  {
   "cell_type": "code",
   "execution_count": 6,
   "metadata": {},
   "outputs": [
    {
     "data": {
      "application/vnd.jupyter.widget-view+json": {
       "model_id": "775bd6a159434620a279af7f045de381",
       "version_major": 2,
       "version_minor": 0
      },
      "text/plain": [
       "interactive(children=(FloatSlider(value=-15.0, continuous_update=False, description='elevation', max=89.9, min…"
      ]
     },
     "metadata": {},
     "output_type": "display_data"
    }
   ],
   "source": [
    "step = 1e-1\n",
    "theta_widget = widgets.FloatSlider(\n",
    "    value=-15,\n",
    "    min=-(90 - step),\n",
    "    max=90 - step,\n",
    "    step=step,\n",
    "    description=r\"elevation\",\n",
    "    disabled=False,\n",
    "    continuous_update=False,\n",
    "    orientation='horizontal',\n",
    "    readout=True,\n",
    "    readout_format='.1f',\n",
    ")\n",
    "\n",
    "phi_widget = widgets.FloatSlider(\n",
    "    value=20,\n",
    "    min=0,\n",
    "    max=360 - step,\n",
    "    step=step,\n",
    "    description=r\"azimuth\",\n",
    "    disabled=False,\n",
    "    continuous_update=False,\n",
    "    orientation='horizontal',\n",
    "    readout=True,\n",
    "    readout_format='.1f',\n",
    ")\n",
    "\n",
    "@interact(r=fixed(20), theta=theta_widget, phi=phi_widget)\n",
    "def orbit(r, theta, phi):\n",
    "    camera.setSphericalPosition(r, theta, phi)\n",
    "    renderer = Renderer(imgsize=(8*128, 8*128))\n",
    "    renderer.render(object3d, camera)"
   ]
  }
 ],
 "metadata": {
  "kernelspec": {
   "display_name": "Python 3.7.1 ('env': venv)",
   "language": "python",
   "name": "python3"
  },
  "language_info": {
   "codemirror_mode": {
    "name": "ipython",
    "version": 3
   },
   "file_extension": ".py",
   "mimetype": "text/x-python",
   "name": "python",
   "nbconvert_exporter": "python",
   "pygments_lexer": "ipython3",
   "version": "3.7.1"
  },
  "orig_nbformat": 4,
  "vscode": {
   "interpreter": {
    "hash": "d6edab15cb6dc3dda8ac24562ded6e94775dc4fda514dfb0ca97f048fd6049fc"
   }
  }
 },
 "nbformat": 4,
 "nbformat_minor": 2
}
